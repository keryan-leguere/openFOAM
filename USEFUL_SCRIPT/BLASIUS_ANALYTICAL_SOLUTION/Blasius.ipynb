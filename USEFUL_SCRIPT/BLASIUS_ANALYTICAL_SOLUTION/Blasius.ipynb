{
 "cells": [
  {
   "cell_type": "markdown",
   "id": "f0c8d148",
   "metadata": {},
   "source": [
    "# Similarity solutions of laminar boundary layers\n",
    "\n",
    "## Similarity solutions: The Blasius equation (1908)\n",
    "  \n",
    "<img src=\"Blasius.png\" width=400 height=200 />\n",
    "<i>Heinrich Blasius (1883-1970), ingénieur hydraulicien et professeur allemand,\n",
    "qui s'est essentiellement consacré à la mécanique des fluides et a laissé son nom à\n",
    "l'équation qui décrit un écoulement stationnaire dans la couche limite (1908).</i>\n",
    "\n",
    "\n",
    "Using scaling arguments, Ludwig Prandtl [L. Prandtl, \"Über Flüssigkeitsbewegung bei sehr kleiner Reibung\", 1904,\n",
    "Verhandlinger 3. Int. Math. Kongr. Heidelberg: 484-491] has argued that about half of the terms in\n",
    "the Navier-Stokes equations are negligible in boundary layer flows (except in a small region near\n",
    "the leading edge of the plate). This leads to a reduced set of equations known as ** the boundary layer\n",
    "equations**. In particular for a semi-infinite flat plate which is held parallel to a constant unidirectional\n",
    "flow, the steady two-dimensional laminar boundary layer for incompressible flow (with constant viscosity and density)\n",
    "is named a Blasius boundary layer [H. Blasius, \"Grenzschichten in Flüssigkeiten mit kleiner Reibung\", 1908,\n",
    "Z. Angew. Math. Phys. 56: 1-37] and is described by [cf slides \"Boundary Layer Theory (1)\", p. 31-33]:\n",
    "\n",
    "\\begin{equation*}\n",
    "\\frac{\\partial u}{\\partial x}+\n",
    "\\frac{\\partial v}{\\partial y}=0\n",
    "\\label{cont}\\tag{1}\n",
    "\\end{equation*}\n",
    "\\begin{equation*}\n",
    "u\\frac{\\partial u}{\\partial x}+\n",
    "v\\frac{\\partial u}{\\partial y}=\n",
    "\\nu\\frac{\\partial^2 u}{\\partial y^2}\n",
    "\\label{mom}\\tag{2}\n",
    "\\end{equation*}\n",
    "\n",
    "The boundary conditions for the velocity field are:\n",
    "\n",
    "$$\n",
    "\\left\\{\\begin{array}{l}\n",
    " \\text{at the wall}\\; (y=0), \\quad u=v=0\\\\\n",
    " \\text{far from the wall}\\; (y\\rightarrow\\infty), \\quad u\\rightarrow U_e\n",
    "\\end{array}\\right.\n",
    "$$\n",
    "\n",
    "\n",
    "We introduce a similarity variable $\\eta$ and a dimensionless\n",
    "stream function $f(\\eta)$ as:\n",
    "\n",
    "$$\n",
    "\\eta=y\\sqrt{\\frac{U_e}{\\nu x}}=\\frac{y}{x}\\sqrt{\\hbox{Re}_x}\n",
    "\\label{eq1}\\tag{3}\n",
    "$$\n",
    "\n",
    "$$\n",
    "\\frac{u}{U}=f'\\;;\\;v=\\frac{1}{2}\\sqrt{\\frac{U_e\\nu}{x}}(\\eta f'-f)\n",
    "\\label{eq2}\\tag{4}\n",
    "$$\n",
    "where a prime denotes differentiation with respect to $\\eta$\n",
    "and Re$_x$ is the local Reynolds number (=$Ux/\\nu$).\n",
    "\n",
    "***\n",
    "\n",
    "> <span style='color:Blue'> 1. Show that the continuity equation $\\eqref{cont}$ is satisfied identically.</span>\n",
    "\n",
    "> Applying Eqs. $\\eqref{eq1}$ and $\\eqref{eq2}$, we obtain:\n",
    "> $$\n",
    "\\frac{\\partial u}{\\partial x}=-\\frac{U_e}{2}\\frac{\\eta}{x}f''\n",
    "$$\n",
    "> $$\n",
    "\\frac{\\partial v}{\\partial y}=\\frac{U_e}{2}\\frac{\\eta}{x}f''\n",
    "\\label{eq3}\\tag{5}\n",
    "$$\n",
    "> and the continuity equation (\\ref{cont}) is satisfied identically.\n",
    "\n",
    "***\n",
    "\n",
    "> <span style='color:Blue'> 2. Show that the other equation yields the Blasius equation $2f'''+ff''=0$.</span>\n",
    "\n",
    "> On the other hand, we get:\n",
    "> $$\n",
    "\\frac{\\partial u}{\\partial y}=-U_e f''\\sqrt{\\frac{U_e}{\\nu x}}\n",
    "\\;;\\;\n",
    "\\frac{\\partial^2 u}{\\partial y^2}=\\frac{U_e^2}{\\nu x}f'''\n",
    "\\label{eq4}\\tag{6}\n",
    "$$\n",
    "\n",
    "> By inserting Eqs.(\\ref{eq2}) to (\\ref{eq4}) into Eq.(\\ref{mom}), we get\n",
    "> $$\n",
    "2f'''+ff''=0\n",
    "\\label{Blasius}\n",
    "$$\n",
    "> and the transformed boundary conditions are:\n",
    "> $$\n",
    "f=0,\\;f'=0\\;\\text{at}\\; \\eta=0\n",
    "$$\n",
    "> $$\n",
    "f'\\rightarrow 1\\;\\text{as}\\; \\eta\\rightarrow\\infty\n",
    "$$\n",
    "\n",
    "> <span style='color:Blue'> 3. Write the problem to be solved as a Cauchy's problem.</span>\n",
    "\n",
    "> The first step is to write the third-order equation as a system of three first-order equations:\n",
    "> $$\n",
    "\\left\\{\n",
    "\\begin{array}{l}\n",
    "f'=g \\\\\n",
    "g'=h \\\\\n",
    "h'=\\frac{1}{2}fh \\\\\n",
    "\\end{array}\n",
    "\\right.\n",
    "$$\n",
    "> We add the boundary conditions at $\\eta=0$: $f(0)=0$, $g(0)=0$, and $h(0)=\\alpha$.\n",
    "\n",
    "> The governing equations of motion for the classical flat-plate flow problem is cast in the form of a *boundary value problem (BVP)*."
   ]
  },
  {
   "cell_type": "markdown",
   "id": "4e79b998",
   "metadata": {},
   "source": [
    "## Solution with shooting procedure\n",
    "\n",
    "### The \"shooting\" method\n",
    "\n",
    "The earliest numerical procedures applied to solution of two-point boundary-value problems were methods based on initial-value problem techniques (see previous worksheet on \"Solution of ODE\"). Consider a linear second-order operator with $x\\in[a;b]$:\n",
    "\n",
    "$$\n",
    "Lu\\equiv a_2(x)u''+a_2(x)u'+a_0u=f(x)\n",
    "\\label{ode1}\\tag{1}\n",
    "$$\n",
    "\n",
    "with the boundary conditions:\n",
    "\n",
    "$$\n",
    "\\begin{array}{ccc}\n",
    "Bu(a)=u(a)=A, & Bu(b)=u(b)=B, & \\text{(Dirichlet)}\\\\\n",
    "Bu(a)=u'(a)=A, & Bu(b)=u'(b)=B, & \\text{(Neumann)}\\\\\n",
    "Bu(a)=u'(a)+\\alpha u(a)=A, & Bu(b)=u'(b)+\\beta u(b)=B, & \\text{(Robin)},\\;\\alpha,\\beta<0\\\\\n",
    "\\end{array}\n",
    "$$\n",
    "\n",
    "Since the ODE is second-order, two initial conditions are required. But only one boundary condition can be given at $x=0$. Suppose it is the Dirichlet condition $u(0)=A$.\n",
    "\n",
    "We must now guess a value for $u'(0)$ in order to start the initial-value problem. Take $u'(0)=\\beta^{(1)}$, and integrate (\\ref{ode1}) from $x=0$ to $x=1$ using any stable initial-value method (see figure). The other boundary\n",
    "condition, {\\sl i.e.} $u(1)=B$ will not have been satisfied.\n",
    "So we select a second value of $u'(0)$, say $\\beta^{(2)}$,\n",
    "and \"shoot\" again. The original curve suggests that we should\n",
    "take $\\beta^{(2)}>\\beta^{(1)}$; the result might be as shown.\n",
    "\n",
    "<img src=\"shooting.png\" width=400 height=200 />\n",
    "<center><i>Geometric representation of the shooting method.</i></center>\n",
    "\n",
    "This approach can be formalized as a Newton iteration by\n",
    "observing that the value of $u(1)$ that is actually obtained\n",
    "is an implicit function of $\\beta$. In particular, we can\n",
    "employ Newton's method to solve the equation:\n",
    "$$\n",
    "u(1,\\beta)-B=0\n",
    "$$\n",
    "For linear equations this turns to work fairly well because an\n",
    "auxiliary equation can be derived in such a way that exactly\n",
    "two iterations are always required. However, the situation\n",
    "is not nearly so favorable for nonlinear problems. "
   ]
  },
  {
   "cell_type": "markdown",
   "id": "4d034742",
   "metadata": {},
   "source": [
    "### A first simple shooting with Euler method\n",
    "\n",
    "Write a program using Euler's method and a initial guess \n",
    "\n",
    "* $f'''$=0, $f''$=0, and $f'$=0.3\n",
    "* $f'''$=0, $f''$=0, and $f'$=0.33206\n",
    "\n",
    "The resolution interval is $0\\le \\eta\\le 10$. "
   ]
  },
  {
   "cell_type": "code",
   "execution_count": 8,
   "id": "eb531c65",
   "metadata": {},
   "outputs": [
    {
     "name": "stdout",
     "output_type": "stream",
     "text": [
      "1.0053496960293766\n"
     ]
    }
   ],
   "source": [
    "# Solution of Blasius Equation with Shooting method\n",
    "# \n",
    "# For the \"shooting method\" solution of the Blasius equation, \n",
    "# we need to write THREE ODE's\n",
    "#\n",
    "# Let n=eta, y1=f, y2=f'=df/dn, y3=d^2f/dn^2=f''\n",
    "# \n",
    "# d(y1)/dn = y2\n",
    "# d(y2)/dn = y3\n",
    "# d(y3)/dn = -(1/2)(y1)(y3) => f'''=-(1/2)*f*f''\n",
    "\n",
    "# set initial conditions at n=0\n",
    "y0=0       # f(0) =0\n",
    "y1=0       # f'(0)=0\n",
    "y2=0.33206 # a guess, our \"aim\" in shooting method\n",
    "\n",
    "# set step size in eta\n",
    "dn=0.1     # arbitrary value here\n",
    "\n",
    "# end of integration\n",
    "n_max=10\n",
    "\n",
    "# number of steps\n",
    "nn=int(n_max/dn)\n",
    "\n",
    "# now integrate, our \"shot\" in shooting method\n",
    "# (here use Euler's method to illustrate logic)\n",
    "for n in range(nn):\n",
    "    y0=y0+y1*dn\n",
    "    y1=y1+y2*dn\n",
    "    y2=y2-0.5*y0*y2*dn\n",
    "\n",
    "# did we hit near our \"target\" of y2=f'= 1 ???\n",
    "# if not, iterate starting value of y3=f''\n",
    "print(y1)\n"
   ]
  },
  {
   "cell_type": "markdown",
   "id": "fe1cff07",
   "metadata": {},
   "source": [
    "### Simple shooting with Runge-Kutta method\n",
    "\n",
    "You are asked to improve the program by replacing the Euler method by the fourth-order Runge Kutta method. Write the new program."
   ]
  },
  {
   "cell_type": "code",
   "execution_count": 9,
   "id": "c550418e",
   "metadata": {},
   "outputs": [
    {
     "name": "stderr",
     "output_type": "stream",
     "text": [
      "<>:50: SyntaxWarning: invalid escape sequence '\\e'\n",
      "<>:50: SyntaxWarning: invalid escape sequence '\\e'\n",
      "/tmp/ipykernel_76879/520572879.py:50: SyntaxWarning: invalid escape sequence '\\e'\n",
      "  plt.ylabel('$\\eta$')\n"
     ]
    },
    {
     "data": {
      "text/plain": [
       "(0.0, 10.0)"
      ]
     },
     "execution_count": 9,
     "metadata": {},
     "output_type": "execute_result"
    },
    {
     "data": {
      "image/png": "[encoded data removed]",
      "text/plain": [
       "<Figure size 640x480 with 1 Axes>"
      ]
     },
     "metadata": {},
     "output_type": "display_data"
    }
   ],
   "source": [
    "import numpy as np\n",
    "import matplotlib.pyplot as plt\n",
    "\n",
    "# ---------------------------------------------------------------------------------------------\n",
    "# set up the ODE equations as a vector\n",
    "# -> the previous state is known in y\n",
    "# -> the derivatives with respect to eta are returned in dy\n",
    "# ---------------------------------------------------------------------------------------------\n",
    "def dy(y):\n",
    "    \n",
    "    dy=np.zeros(3)\n",
    "    \n",
    "    dy[0]=y[1]\n",
    "    dy[1]=y[2]\n",
    "    dy[2]=-0.5*y[0]*y[2]\n",
    "\n",
    "    return dy\n",
    "# ---------------------------------------------------------------------------------------------\n",
    "\n",
    "# initial values\n",
    "y=np.zeros(3)\n",
    "y[0]=0.\n",
    "y[1]=0.\n",
    "y[2]=0.33206\n",
    "\n",
    "# set step size in eta\n",
    "dn=0.1     # arbitrary value here\n",
    "# end of integration\n",
    "n_max=10\n",
    "# number of srps\n",
    "nn=int(n_max/dn)\n",
    "\n",
    "# resolution with Runge-Kutta o4\n",
    "u=np.zeros(nn)\n",
    "eta=np.zeros(nn)\n",
    "for n in range(nn):\n",
    "    eta[n]=n*dn\n",
    "    u[n]=y[1]\n",
    "    \n",
    "    K1=dy(y)\n",
    "    K2=dy(y+0.5*dn*K1)\n",
    "    K3=dy(y+0.5*dn*K2)\n",
    "    K4=dy(y+dn*K3)\n",
    "    y=y+dn*(K1+2*K2+2*K3+K4)/6\n",
    "\n",
    "\n",
    "plt.plot(u,eta,'k-')\n",
    "plt.title('Laminar flow over a flat plate')\n",
    "plt.xlabel('$u/U_e$')\n",
    "plt.ylabel('$\\eta$')\n",
    "plt.xlim(0,1.1)\n",
    "plt.ylim(0,10)"
   ]
  },
  {
   "cell_type": "markdown",
   "id": "0d3d10d6",
   "metadata": {},
   "source": [
    "### Adaptive Newton's shooting with Runge-Kutta method\n",
    "\n",
    "We want now to solve the Falkner-Skan equation with a Runge-Kutta method, and with an adaptive procedure to determine the guess of the\n",
    "shooting procedure.\n",
    "\n",
    "* The resolution interval is $0\\le \\eta\\le 10$. \n",
    "\n",
    "* As previously, the first step is to write the third-order equation as a system of three first-order ODEs\n",
    "with the boundary conditions at $\\eta=0$: $f(0)=0$, $g(0)=0$,and $h(0)=\\alpha$.\n",
    "\n",
    "* The next step is to determine the value of $\\alpha$ satisfying the boundary condition for the freestream, i.e.\n",
    "for $\\eta=10$: $N(\\alpha)=g-1=0$. A simple method to find $\\alpha$ consists in using Newton's method:\n",
    "$$\n",
    "\\alpha^{(n+1)}=\\alpha^{(n)}-\\frac{N(\\alpha^{(n)})}\n",
    "{\\left.\\frac{\\partial N}{\\partial\\alpha}\\right|_{\\alpha^{(n)}}}\n",
    "$$\n",
    "\n",
    "* A smart way to evaluate the derivative $\\partial N/\\partial\\alpha$\n",
    "is to solve in parallel the following variational system:\n",
    "$$\n",
    "\\left\\{\n",
    "\\begin{array}{l}\n",
    "F'=G \\\\\n",
    "G'=H \\\\\n",
    "H'=-\\frac{1}{2}(Fh+fH) \\\\\n",
    "\\end{array}\n",
    "\\right.\n",
    "$$\n",
    "where\n",
    "$$\n",
    "\\left\\{\n",
    "\\begin{array}{l}\n",
    "F=\\frac{\\partial f}{\\partial\\alpha} \\\\\n",
    "G=\\frac{\\partial g}{\\partial\\alpha} \\\\\n",
    "H=\\frac{\\partial h}{\\partial\\alpha} \\\\\n",
    "\\end{array}\n",
    "\\right.\n",
    "$$\n",
    "\n",
    "with the boundary conditions at $\\eta=0$: $F(0)=0$, $G(0)=0$,\n",
    "and $H(0)=1$.\n",
    " \n",
    "The coupled systems are written in a function named 'fblasius.m'.\n",
    "This system will be called by the Runge-Kutta function (or 'ode45' function).\n",
    "The unknown vector 'U' groups together the six unknown functions $f,g,h,F,G,H$."
   ]
  },
  {
   "cell_type": "code",
   "execution_count": null,
   "id": "17b86aa5",
   "metadata": {},
   "outputs": [],
   "source": []
  },
  {
   "cell_type": "markdown",
   "id": "a1d0e7d5",
   "metadata": {},
   "source": [
    "### The Falkner and Skan equation (1930)\n",
    "\n",
    "The Falkner–Skan boundary layer (named after V. M. Falkner and Sylvia W. Skan) describes the steady two-dimensional laminar boundary layer that forms on a wedge, i.e. flows in which the plate is not parallel to the flow. It is a generalization of the Blasius boundary layer.\n",
    "    \n",
    "<table><tr>\n",
    "<td> <img src=\"WedgeFlow.png\" width=400 height=200 /> </td>\n",
    "<td> <img src=\"Falkner_Skan.png\" width=400 height=200 /> </td>\n",
    "</tr></table>\n",
    "    \n",
    "When a pressure gradient is present:\n",
    "$$\n",
    "U_e=U_0x^m\\quad\\Rightarrow\\quad\n",
    "\\frac{1}{\\rho}\\frac{dP}{dx_1}=-U_0mx^{2m-1}\n",
    "$$\n",
    "We obtain the Falkner-Skan equation:\n",
    "$$\n",
    "\\boxed{f'''+\\frac{m+1}{2}ff''+m(1+f'^2)=0}\n",
    "\\label{FSeq}\n",
    "$$\n"
   ]
  },
  {
   "cell_type": "code",
   "execution_count": 10,
   "id": "80da17c9",
   "metadata": {},
   "outputs": [],
   "source": [
    "import numpy as np\n",
    "import matplotlib.pyplot as plt\n",
    "from scipy.integrate import solve_ivp"
   ]
  },
  {
   "cell_type": "markdown",
   "id": "a3fbaeb6",
   "metadata": {},
   "source": [
    "### Define the function with auxiliary system"
   ]
  },
  {
   "cell_type": "code",
   "execution_count": 11,
   "id": "be551e16",
   "metadata": {},
   "outputs": [],
   "source": [
    "# ---------------------------------------------------------------------------------------------\n",
    "# set up the ODE equations: main + auxiliary systems\n",
    "# -> Input: the previous state is known in vector y=[f,g,h,F,G,H]\n",
    "# -> Input: the parameter m of the Falkner-Skan equation (m=0 gives Blasius flow)\n",
    "# -> Output: the derivatives with respect to eta are returned in vector dy\n",
    "# ---------------------------------------------------------------------------------------------\n",
    "def fblasius(t,y,m):\n",
    "    \n",
    "    dy=np.zeros(6)\n",
    "\n",
    "    # First system for f,g,h\n",
    "    dy[0] = y[1]\n",
    "    dy[1] = y[2]\n",
    "    dy[2] = -(m+1.)/2.*y[0]*y[2] - m*(1.-y[1]**2)\n",
    "\n",
    "    #  Second system for F,G,H\n",
    "    dy[3] = y[4]\n",
    "    dy[4] = y[5]\n",
    "    dy[5] = -(m+1.)/2.*(y[3]*y[2]+y[0]*y[5]) + 2.*m*y[1]*y[4]\n",
    "    \n",
    "    return dy\n",
    "# ---------------------------------------------------------------------------------------------"
   ]
  },
  {
   "cell_type": "code",
   "execution_count": null,
   "id": "5ed27e6f",
   "metadata": {},
   "outputs": [],
   "source": []
  },
  {
   "cell_type": "code",
   "execution_count": 12,
   "id": "11779227",
   "metadata": {
    "tags": []
   },
   "outputs": [],
   "source": [
    "eta = np.linspace(0., 10., 101)\n",
    "ny = np.size(eta)\n",
    "\n",
    "epsilon = 1.e-6\n",
    "\n",
    "mtab=np.array([0., 1., -0.09043])\n",
    "nm = np.size(mtab)\n",
    "\n",
    "u=np.zeros((ny,nm))"
   ]
  },
  {
   "cell_type": "code",
   "execution_count": null,
   "id": "92a53cd3",
   "metadata": {},
   "outputs": [],
   "source": []
  },
  {
   "cell_type": "code",
   "execution_count": 13,
   "id": "3ce3a674",
   "metadata": {},
   "outputs": [],
   "source": [
    "for i in range(nm):\n",
    "\n",
    "    m = mtab[i]\n",
    "\n",
    "    alpha = 2.*m\n",
    "    it = 0\n",
    "    erreur = 2.*epsilon\n",
    "    \n",
    "    # initial values\n",
    "    f = 0.\n",
    "    g = 0.\n",
    "    h = alpha\n",
    "    F = 0.\n",
    "    G = 0.\n",
    "    H = 1.\n",
    "    yo=np.array([f,g,h,F,G,H])\n",
    "\n",
    "    # Newton's loop for alpha\n",
    "    while (erreur>epsilon) and (it<10):\n",
    "        sol=solve_ivp(fblasius,[0,10],yo,t_eval=eta,args=(m,))\n",
    "        y = sol.t\n",
    "        X = sol.y\n",
    "        alpha = alpha-(X[1,ny-1]-1.)/X[4,ny-1]\n",
    "        yo = [f,g,alpha,F,G,H]\n",
    "        erreur = abs(X[1,ny-1]-1.)\n",
    "        it = it+1\n",
    "        \n",
    "    # store the solution    \n",
    "    u[:,i]=X[1,:]"
   ]
  },
  {
   "cell_type": "markdown",
   "id": "4a63c181",
   "metadata": {},
   "source": [
    "### Plot the solution"
   ]
  },
  {
   "cell_type": "code",
   "execution_count": 14,
   "id": "fb1fcc09",
   "metadata": {
    "jupyter": {
     "source_hidden": true
    },
    "tags": []
   },
   "outputs": [
    {
     "name": "stderr",
     "output_type": "stream",
     "text": [
      "<>:6: SyntaxWarning: invalid escape sequence '\\e'\n",
      "<>:6: SyntaxWarning: invalid escape sequence '\\e'\n",
      "/tmp/ipykernel_76879/3544399043.py:6: SyntaxWarning: invalid escape sequence '\\e'\n",
      "  plt.ylabel('$\\eta$')\n"
     ]
    },
    {
     "data": {
      "text/plain": [
       "(0.0, 10.0)"
      ]
     },
     "execution_count": 14,
     "metadata": {},
     "output_type": "execute_result"
    },
    {
     "data": {
      "image/png": "[encoded data removed]",
      "text/plain": [
       "<Figure size 640x480 with 1 Axes>"
      ]
     },
     "metadata": {},
     "output_type": "display_data"
    }
   ],
   "source": [
    "plt.plot(u[:,0],eta,'r-')\n",
    "plt.plot(u[:,1],eta,'b-')\n",
    "plt.plot(u[:,2],eta,'g-')\n",
    "plt.title('Laminar flow over a flat plate')\n",
    "plt.xlabel('$u/U_e$')\n",
    "plt.ylabel('$\\eta$')\n",
    "plt.xlim(0,1.1)\n",
    "plt.ylim(0,10)"
   ]
  },
  {
   "cell_type": "code",
   "execution_count": null,
   "id": "ca2aaafb",
   "metadata": {},
   "outputs": [],
   "source": []
  }
 ],
 "metadata": {
  "kernelspec": {
   "display_name": "base",
   "language": "python",
   "name": "python3"
  },
  "language_info": {
   "codemirror_mode": {
    "name": "ipython",
    "version": 3
   },
   "file_extension": ".py",
   "mimetype": "text/x-python",
   "name": "python",
   "nbconvert_exporter": "python",
   "pygments_lexer": "ipython3",
   "version": "3.12.4"
  }
 },
 "nbformat": 4,
 "nbformat_minor": 5
}
